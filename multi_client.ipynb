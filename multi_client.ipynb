{
 "cells": [
  {
   "attachments": {},
   "cell_type": "markdown",
   "id": "configured-sweden",
   "metadata": {},
   "source": [
    "# Multi-Client Example\n",
    "*BeamNG.tech / BeamNG.drive*\n",
    "\n",
    "## Introduction\n",
    "\n",
    "This example shows how to connect multiple `BeamNGpy` instances to the simulator and have them control different vehicles. For demonstration purposes, both instances are housed in the same Python process, but the same example could be used from an entirely different process or machine as well.\n",
    "\n",
    "## Scenario\n",
    "\n",
    "The scenario will be a rather simple one: there are two vehicles on the `smallgrid` map (an infinite flat plane) and one vehicle will randomly drive around, controlled by client A, with another vehicle, controlled by client B, mimicking A's behavior.\n",
    "\n",
    "## Setup\n",
    "\n",
    "Contrary to other examples, we will be using two instances of the `BeamNGpy` class representing two clients A and B. In our case, client A will create the scenario containing both vehicles, but client B will later connect and control one of the vehicles while A controls the other. The classes involved in this are:\n",
    "\n",
    "* `BeamNGpy`: Two instances of this will be used to implement client A and B\n",
    "* `Scenario`: Client A will create a scenario for both clients to play in\n",
    "* `Vehicle`: Used to specify and control vehicles involved in the scenario\n",
    "* `Electrics`: A sensor used to inspect interal systems of the vehicle\n",
    "\n",
    "The code starts with importing the respective classes:"
   ]
  },
  {
   "cell_type": "code",
   "execution_count": 8,
   "id": "aware-grammar",
   "metadata": {},
   "outputs": [],
   "source": [
    "import random\n",
    "\n",
    "from beamngpy import BeamNGpy, Scenario, Vehicle\n",
    "from beamngpy.sensors import Electrics"
   ]
  },
  {
   "attachments": {},
   "cell_type": "markdown",
   "id": "tribal-arrival",
   "metadata": {},
   "source": [
    "Now we set up our first client who will create the scenario for both clients. Client A will also launch the simulator."
   ]
  },
  {
   "cell_type": "code",
   "execution_count": 9,
   "id": "crude-hampton",
   "metadata": {},
   "outputs": [
    {
     "data": {
      "text/plain": [
       "<beamngpy.beamng.beamng.BeamNGpy at 0x1d0a276bc10>"
      ]
     },
     "execution_count": 9,
     "metadata": {},
     "output_type": "execute_result"
    }
   ],
   "source": [
    "client_a = BeamNGpy('localhost', 64256, 'D:\\BeamNG.tech.v0.27.2.0')\n",
    "client_a.open()"
   ]
  },
  {
   "attachments": {},
   "cell_type": "markdown",
   "id": "solid-soundtrack",
   "metadata": {},
   "source": [
    "With the simulator running, we can start setting up our scenario. It will contain two vehicles, the one controlled by Client A being placed in front of the one later controlled by client B."
   ]
  },
  {
   "cell_type": "code",
   "execution_count": 10,
   "id": "operational-market",
   "metadata": {},
   "outputs": [],
   "source": [
    "scenario = Scenario('smallgrid', 'tag')\n",
    "av_a = Vehicle('vehicleA', model='etk800')\n",
    "av_b = Vehicle('vehicleB', model='etk800')\n",
    "scenario.add_vehicle(av_a, pos=(0, -10, 0))\n",
    "scenario.add_vehicle(av_b)\n",
    "scenario.make(client_a)"
   ]
  },
  {
   "attachments": {},
   "cell_type": "markdown",
   "id": "global-intellectual",
   "metadata": {},
   "source": [
    "## Running\n",
    "\n",
    "The scenario is now made, meaning the required files have been generated and can be loaded in the simulator:"
   ]
  },
  {
   "cell_type": "code",
   "execution_count": 11,
   "id": "endangered-hampton",
   "metadata": {},
   "outputs": [],
   "source": [
    "client_a.scenario.load(scenario)\n",
    "client_a.scenario.start()"
   ]
  },
  {
   "attachments": {},
   "cell_type": "markdown",
   "id": "smaller-spanish",
   "metadata": {},
   "source": [
    "Now we will set up our second client and connect it to the running simulator. The client will first connect, then query the running scenario, and retrieve currently active vehicles. They will then find the vehicle meant for Client B and connect to it. Note that `client_b` is opened with the flag `launch=False`meaning it will not launch its own BeamNG.tech process."
   ]
  },
  {
   "cell_type": "code",
   "execution_count": 12,
   "id": "secure-breakfast",
   "metadata": {},
   "outputs": [
    {
     "name": "stdout",
     "output_type": "stream",
     "text": [
      "tag\n"
     ]
    }
   ],
   "source": [
    "client_b = BeamNGpy('localhost', 64256)\n",
    "client_b.open(launch=False)\n",
    "running_scenario = client_b.scenario.get_current()\n",
    "print(running_scenario.name)\n",
    "active_vehicles = client_b.vehicles.get_current()\n",
    "bv_a = active_vehicles['vehicleA']\n",
    "bv_b = active_vehicles['vehicleB']\n",
    "# B attaches their own sensor to get the current controls of A\n",
    "bv_a.sensors.attach('electrics', Electrics())\n",
    "# bv_b.sensors.attach('electrics', Electrics())\n",
    "bv_a.connect(client_b)\n",
    "bv_b.connect(client_b)"
   ]
  },
  {
   "attachments": {},
   "cell_type": "markdown",
   "id": "relevant-elevation",
   "metadata": {},
   "source": [
    "Two clients are now connected to the running simulation and both vehicles. What follows is the main loop of the scenario, where Client A sends random steering inputs to their vehicle and Client B checks how A's vehicle is driving using the electrics sensor and sends the same inputs to their vehicle."
   ]
  },
  {
   "cell_type": "code",
   "execution_count": 13,
   "id": "quick-stuff",
   "metadata": {},
   "outputs": [
    {
     "name": "stdout",
     "output_type": "stream",
     "text": [
      "0.9397760648495722 -0.027916310377083375\n",
      "0.0033369488375666334 -0.9059539906442342\n",
      "0.0033093135845539967 0.06747759350641645\n",
      "0.6732617804481296 0.36219794860832205\n",
      "0.7114798575037589 -0.07503945083531902\n",
      "0.1820544644668287 -0.5304140365940094\n",
      "0.35971621739410786 0.48805198008987805\n",
      "0.4804402564387684 0.7119060743514573\n",
      "0.006492352247964184 -0.31553057626683917\n",
      "0.7124131473374311 -0.5057307849429381\n",
      "0.16746279441796375 -0.4040368026482489\n",
      "0.7165468541861448 -0.2957872971153035\n",
      "0.1650807385365941 0.7063641741045409\n",
      "0.8462293316543527 0.6318037202615335\n",
      "0.5355257334762912 -0.0832615729093024\n",
      "0.6949452596808949 -0.3248375543566537\n",
      "0.750583719331257 -0.5069930978730359\n",
      "0.5553047149758604 0.6663133281224056\n",
      "0.8697652020016521 0.5200695287843291\n",
      "0.625095442702823 -0.302663793947006\n"
     ]
    }
   ],
   "source": [
    "# Focus simulator on second vehicle because it's the more interesting one to see\n",
    "av_b.focus()\n",
    "\n",
    "for _ in range(20):\n",
    "    # Client A sending control inputs to their vehicle connection\n",
    "    av_a.control(throttle=random.random(), steering=(random.random() * 2 - 1))\n",
    "    \n",
    "    # Client B updating the electrics sensor of A's vehicle\n",
    "    bv_a.sensors.poll()\n",
    "    \n",
    "    throttle = bv_a.sensors['electrics']['throttle_input']\n",
    "    steering = bv_a.sensors['electrics']['steering_input']\n",
    "    print(throttle, steering)\n",
    "    bv_b.control(throttle=throttle, steering=steering)\n",
    "    \n",
    "    # Client A now advancing the simulation 60 steps\n",
    "    client_a.control.step(60)\n",
    "\n",
    "client_b.disconnect()\n",
    "client_a.close()"
   ]
  },
  {
   "cell_type": "code",
   "execution_count": null,
   "id": "fab32005-601e-46d9-a60a-f35ed14e60fa",
   "metadata": {},
   "outputs": [],
   "source": []
  }
 ],
 "metadata": {
  "kernelspec": {
   "display_name": "beamng",
   "language": "python",
   "name": "python3"
  },
  "language_info": {
   "codemirror_mode": {
    "name": "ipython",
    "version": 3
   },
   "file_extension": ".py",
   "mimetype": "text/x-python",
   "name": "python",
   "nbconvert_exporter": "python",
   "pygments_lexer": "ipython3",
   "version": "3.10.11"
  }
 },
 "nbformat": 4,
 "nbformat_minor": 5
}
